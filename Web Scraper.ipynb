{
 "cells": [
  {
   "cell_type": "code",
   "execution_count": 1,
   "metadata": {},
   "outputs": [],
   "source": [
    "import pandas as pd\n",
    "import requests"
   ]
  },
  {
   "cell_type": "code",
   "execution_count": 2,
   "metadata": {},
   "outputs": [],
   "source": [
    "url = \"https://sec.report/Document\"\n",
    "\n",
    "# HTTP header is a field of an HTTP request or response that passes additional context and metadata about the request or response.\n",
    "headers = {\"User-Agent\": \"Mozilla/5.0 (Windows; U; Windows NT 5.1; en-US; rv:1.9.2.8) Gecko/20100722 Firefox/3.6.8 GTB7.1 (.NET CLR 3.5.30729)\"}\n",
    "response = requests.get(url, headers=headers)\n",
    "\n",
    "table = pd.read_html(response.text)"
   ]
  },
  {
   "cell_type": "code",
   "execution_count": 3,
   "metadata": {},
   "outputs": [],
   "source": [
    "table[0]['Company'] = table[0]['CompanyCIK'].str.replace('000','_000').str.split('_', expand=True)[0]\n",
    "table[0]['CIK'] = table[0]['CompanyCIK'].str.replace('000','_000').str.split('_', expand=True)[1]\n",
    "\n",
    "# Open the url and get the date from the Document column then put it in the split method\n",
    "table[0]['Document'] = table[0]['Document Form'].str.split('2022-09-02 00:00:00', expand=True)[0]\n",
    "table[0]['Form'] = table[0]['Document Form'].str.split('2022-09-02 00:00:00', expand=True)[1]\n",
    "\n",
    "# Remove unwnated columns\n",
    "table[0].drop('CompanyCIK', axis=1, inplace=True)\n",
    "table[0].drop('Document Form', axis=1, inplace=True)"
   ]
  },
  {
   "cell_type": "code",
   "execution_count": 4,
   "metadata": {},
   "outputs": [
    {
     "data": {
      "text/html": [
       "<div>\n",
       "<style scoped>\n",
       "    .dataframe tbody tr th:only-of-type {\n",
       "        vertical-align: middle;\n",
       "    }\n",
       "\n",
       "    .dataframe tbody tr th {\n",
       "        vertical-align: top;\n",
       "    }\n",
       "\n",
       "    .dataframe thead th {\n",
       "        text-align: right;\n",
       "    }\n",
       "</style>\n",
       "<table border=\"1\" class=\"dataframe\">\n",
       "  <thead>\n",
       "    <tr style=\"text-align: right;\">\n",
       "      <th></th>\n",
       "      <th>Company</th>\n",
       "      <th>CIK</th>\n",
       "      <th>Document</th>\n",
       "      <th>Form</th>\n",
       "    </tr>\n",
       "  </thead>\n",
       "  <tbody>\n",
       "    <tr>\n",
       "      <th>0</th>\n",
       "      <td>Kim Helen Susan</td>\n",
       "      <td>0001422772</td>\n",
       "      <td>Security Sale/Purchase Record</td>\n",
       "      <td>4</td>\n",
       "    </tr>\n",
       "    <tr>\n",
       "      <th>1</th>\n",
       "      <td>Kim Helen Susan</td>\n",
       "      <td>0001559053</td>\n",
       "      <td>Security Sale/Purchase Record</td>\n",
       "      <td>4</td>\n",
       "    </tr>\n",
       "    <tr>\n",
       "      <th>2</th>\n",
       "      <td>LAWLOR AUGUSTINE</td>\n",
       "      <td>0001262327</td>\n",
       "      <td>Security Sale/Purchase Record</td>\n",
       "      <td>4</td>\n",
       "    </tr>\n",
       "    <tr>\n",
       "      <th>3</th>\n",
       "      <td>PITTERS RON</td>\n",
       "      <td>0001299709</td>\n",
       "      <td>Security Sale/Purchase Record</td>\n",
       "      <td>4</td>\n",
       "    </tr>\n",
       "    <tr>\n",
       "      <th>4</th>\n",
       "      <td>PITTERS RON</td>\n",
       "      <td>0001891973</td>\n",
       "      <td>Security Sale/Purchase Record</td>\n",
       "      <td>4</td>\n",
       "    </tr>\n",
       "    <tr>\n",
       "      <th>...</th>\n",
       "      <td>...</td>\n",
       "      <td>...</td>\n",
       "      <td>...</td>\n",
       "      <td>...</td>\n",
       "    </tr>\n",
       "    <tr>\n",
       "      <th>395</th>\n",
       "      <td>Morris June</td>\n",
       "      <td>0001884658</td>\n",
       "      <td>Security Sale/Purchase Record</td>\n",
       "      <td>4</td>\n",
       "    </tr>\n",
       "    <tr>\n",
       "      <th>396</th>\n",
       "      <td>Sterrs Lawrence J</td>\n",
       "      <td>0001629704</td>\n",
       "      <td>Security Sale/Purchase Record</td>\n",
       "      <td>4/A</td>\n",
       "    </tr>\n",
       "    <tr>\n",
       "      <th>397</th>\n",
       "      <td>Bradley Peter</td>\n",
       "      <td>0001331717</td>\n",
       "      <td>Security Sale/Purchase Record</td>\n",
       "      <td>4</td>\n",
       "    </tr>\n",
       "    <tr>\n",
       "      <th>398</th>\n",
       "      <td>Prager Paul B.</td>\n",
       "      <td>0001877255</td>\n",
       "      <td>Security Sale/Purchase Record</td>\n",
       "      <td>4</td>\n",
       "    </tr>\n",
       "    <tr>\n",
       "      <th>399</th>\n",
       "      <td>Beech Michael F</td>\n",
       "      <td>0001626738</td>\n",
       "      <td>Security Sale/Purchase Record</td>\n",
       "      <td>4</td>\n",
       "    </tr>\n",
       "  </tbody>\n",
       "</table>\n",
       "<p>400 rows × 4 columns</p>\n",
       "</div>"
      ],
      "text/plain": [
       "               Company         CIK                       Document  Form\n",
       "0      Kim Helen Susan  0001422772  Security Sale/Purchase Record     4\n",
       "1      Kim Helen Susan  0001559053  Security Sale/Purchase Record     4\n",
       "2     LAWLOR AUGUSTINE  0001262327  Security Sale/Purchase Record     4\n",
       "3          PITTERS RON  0001299709  Security Sale/Purchase Record     4\n",
       "4          PITTERS RON  0001891973  Security Sale/Purchase Record     4\n",
       "..                 ...         ...                            ...   ...\n",
       "395        Morris June  0001884658  Security Sale/Purchase Record     4\n",
       "396  Sterrs Lawrence J  0001629704  Security Sale/Purchase Record   4/A\n",
       "397      Bradley Peter  0001331717  Security Sale/Purchase Record     4\n",
       "398     Prager Paul B.  0001877255  Security Sale/Purchase Record     4\n",
       "399    Beech Michael F  0001626738  Security Sale/Purchase Record     4\n",
       "\n",
       "[400 rows x 4 columns]"
      ]
     },
     "execution_count": 4,
     "metadata": {},
     "output_type": "execute_result"
    }
   ],
   "source": [
    "table[0]"
   ]
  },
  {
   "cell_type": "code",
   "execution_count": 5,
   "metadata": {},
   "outputs": [],
   "source": [
    "table[0].to_csv('SEC_Filings.csv',index=False)"
   ]
  }
 ],
 "metadata": {
  "kernelspec": {
   "display_name": "Python 3.9.5 ('base')",
   "language": "python",
   "name": "python3"
  },
  "language_info": {
   "codemirror_mode": {
    "name": "ipython",
    "version": 3
   },
   "file_extension": ".py",
   "mimetype": "text/x-python",
   "name": "python",
   "nbconvert_exporter": "python",
   "pygments_lexer": "ipython3",
   "version": "3.9.5"
  },
  "orig_nbformat": 4,
  "vscode": {
   "interpreter": {
    "hash": "a063ba3d0e917a410c150429d24b5fa5fb17afad2e7ba4d9b925e9d40c098669"
   }
  }
 },
 "nbformat": 4,
 "nbformat_minor": 2
}
