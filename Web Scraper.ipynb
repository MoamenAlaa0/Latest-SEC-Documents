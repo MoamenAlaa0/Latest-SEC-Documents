{
 "cells": [
  {
   "cell_type": "code",
   "execution_count": 1,
   "id": "571f05b5",
   "metadata": {},
   "outputs": [],
   "source": [
    "import requests\n",
    "from bs4 import BeautifulSoup\n",
    "\n",
    "import pandas as pd"
   ]
  },
  {
   "cell_type": "code",
   "execution_count": 2,
   "id": "a30855dc",
   "metadata": {},
   "outputs": [],
   "source": [
    "headers = {\"User-Agent\": \"Mozilla/5.0 (Windows; U; Windows NT 5.1; en-US; rv:1.9.2.8) Gecko/20100722 Firefox/3.6.8 GTB7.1 (.NET CLR 3.5.30729)\"}\n",
    "base_url = \"https://sec.report/Document/\"\n",
    "\n",
    "response = requests.get(base_url, headers = headers, timeout = 5)\n",
    "\n",
    "html = response.content\n",
    "soup = BeautifulSoup(html, \"lxml\")"
   ]
  },
  {
   "cell_type": "code",
   "execution_count": 3,
   "id": "79a8726b",
   "metadata": {},
   "outputs": [],
   "source": [
    "table = soup.find('table', class_ = 'table')"
   ]
  },
  {
   "cell_type": "code",
   "execution_count": 8,
   "id": "c1145cb4",
   "metadata": {},
   "outputs": [],
   "source": [
    "rows = table.find_all('td')"
   ]
  },
  {
   "cell_type": "code",
   "execution_count": 11,
   "id": "d497e7ea",
   "metadata": {},
   "outputs": [],
   "source": [
    "scrap_data = [row.text.replace('000', '_000') for row in rows]"
   ]
  },
  {
   "cell_type": "code",
   "execution_count": 16,
   "id": "1f6df3c3",
   "metadata": {},
   "outputs": [],
   "source": [
    "Company_CIK = []\n",
    "Document = []\n",
    "Form = []"
   ]
  },
  {
   "cell_type": "code",
   "execution_count": 17,
   "id": "3e4639fc",
   "metadata": {},
   "outputs": [],
   "source": [
    "for i in range(0, len(scrap_data), 2):\n",
    "    Company_CIK.append(scrap_data[i].replace('_',' '))\n",
    "    \n",
    "    spl = scrap_data[i+1].split('2022-08-25 00:00:00')\n",
    "    Document.append(spl[0].strip())\n",
    "    Form.append(spl[1].strip())"
   ]
  },
  {
   "cell_type": "code",
   "execution_count": 27,
   "id": "9f032efe",
   "metadata": {},
   "outputs": [],
   "source": [
    "doc_of_list = {'Company_CIK': Company_CIK, 'Document': Document, 'Form': Form}\n",
    "data = pd.DataFrame(doc_of_list)"
   ]
  },
  {
   "cell_type": "code",
   "execution_count": 30,
   "id": "386e4dc3",
   "metadata": {},
   "outputs": [
    {
     "data": {
      "text/html": [
       "<div>\n",
       "<style scoped>\n",
       "    .dataframe tbody tr th:only-of-type {\n",
       "        vertical-align: middle;\n",
       "    }\n",
       "\n",
       "    .dataframe tbody tr th {\n",
       "        vertical-align: top;\n",
       "    }\n",
       "\n",
       "    .dataframe thead th {\n",
       "        text-align: right;\n",
       "    }\n",
       "</style>\n",
       "<table border=\"1\" class=\"dataframe\">\n",
       "  <thead>\n",
       "    <tr style=\"text-align: right;\">\n",
       "      <th></th>\n",
       "      <th>Company_CIK</th>\n",
       "      <th>Document</th>\n",
       "      <th>Form</th>\n",
       "    </tr>\n",
       "  </thead>\n",
       "  <tbody>\n",
       "    <tr>\n",
       "      <th>0</th>\n",
       "      <td>MUTUAL FUND SERIES TRUST 0001355064</td>\n",
       "      <td>Monthly Portfolio Investments Report</td>\n",
       "      <td>NPORT-P</td>\n",
       "    </tr>\n",
       "    <tr>\n",
       "      <th>1</th>\n",
       "      <td>Merlot Thierry 0000717605</td>\n",
       "      <td>Security Sale/Purchase Record</td>\n",
       "      <td>4</td>\n",
       "    </tr>\n",
       "    <tr>\n",
       "      <th>2</th>\n",
       "      <td>Northern Lights Fund Trust 0001314414</td>\n",
       "      <td>Monthly Portfolio Investments Report</td>\n",
       "      <td>NPORT-P</td>\n",
       "    </tr>\n",
       "    <tr>\n",
       "      <th>3</th>\n",
       "      <td>Nussbaum Ran 0001668243</td>\n",
       "      <td>Security Sale/Purchase Record</td>\n",
       "      <td>4</td>\n",
       "    </tr>\n",
       "    <tr>\n",
       "      <th>4</th>\n",
       "      <td>CULLEN FUNDS TRUST 0001109957</td>\n",
       "      <td>Monthly Portfolio Investments Report</td>\n",
       "      <td>NPORT-P</td>\n",
       "    </tr>\n",
       "    <tr>\n",
       "      <th>5</th>\n",
       "      <td>Mutual Fund &amp; Variable Insurance Trust 0000810695</td>\n",
       "      <td>Monthly Portfolio Investments Report</td>\n",
       "      <td>NPORT-P</td>\n",
       "    </tr>\n",
       "    <tr>\n",
       "      <th>6</th>\n",
       "      <td>CB Catalyst Co-Invest, L.P. 0001943015</td>\n",
       "      <td>Stock / Securites Offering</td>\n",
       "      <td>D</td>\n",
       "    </tr>\n",
       "    <tr>\n",
       "      <th>7</th>\n",
       "      <td>MUTUAL FUND SERIES TRUST 0001355064</td>\n",
       "      <td>Monthly Portfolio Investments Report</td>\n",
       "      <td>NPORT-P</td>\n",
       "    </tr>\n",
       "    <tr>\n",
       "      <th>8</th>\n",
       "      <td>MARCUS STEPHEN H 0000062234</td>\n",
       "      <td>Security Sale/Purchase Record</td>\n",
       "      <td>4</td>\n",
       "    </tr>\n",
       "    <tr>\n",
       "      <th>9</th>\n",
       "      <td>CULLEN FUNDS TRUST 0001109957</td>\n",
       "      <td>Monthly Portfolio Investments Report</td>\n",
       "      <td>NPORT-P</td>\n",
       "    </tr>\n",
       "  </tbody>\n",
       "</table>\n",
       "</div>"
      ],
      "text/plain": [
       "                                         Company_CIK  \\\n",
       "0                MUTUAL FUND SERIES TRUST 0001355064   \n",
       "1                          Merlot Thierry 0000717605   \n",
       "2              Northern Lights Fund Trust 0001314414   \n",
       "3                            Nussbaum Ran 0001668243   \n",
       "4                      CULLEN FUNDS TRUST 0001109957   \n",
       "5  Mutual Fund & Variable Insurance Trust 0000810695   \n",
       "6             CB Catalyst Co-Invest, L.P. 0001943015   \n",
       "7                MUTUAL FUND SERIES TRUST 0001355064   \n",
       "8                        MARCUS STEPHEN H 0000062234   \n",
       "9                      CULLEN FUNDS TRUST 0001109957   \n",
       "\n",
       "                               Document     Form  \n",
       "0  Monthly Portfolio Investments Report  NPORT-P  \n",
       "1         Security Sale/Purchase Record        4  \n",
       "2  Monthly Portfolio Investments Report  NPORT-P  \n",
       "3         Security Sale/Purchase Record        4  \n",
       "4  Monthly Portfolio Investments Report  NPORT-P  \n",
       "5  Monthly Portfolio Investments Report  NPORT-P  \n",
       "6            Stock / Securites Offering        D  \n",
       "7  Monthly Portfolio Investments Report  NPORT-P  \n",
       "8         Security Sale/Purchase Record        4  \n",
       "9  Monthly Portfolio Investments Report  NPORT-P  "
      ]
     },
     "execution_count": 30,
     "metadata": {},
     "output_type": "execute_result"
    }
   ],
   "source": [
    "data.head(10)"
   ]
  },
  {
   "cell_type": "code",
   "execution_count": 29,
   "id": "99ca102a",
   "metadata": {},
   "outputs": [],
   "source": [
    "data.to_excel('Latest_SEC_Documents.xlsx', index = False)"
   ]
  }
 ],
 "metadata": {
  "kernelspec": {
   "display_name": "Python 3",
   "language": "python",
   "name": "python3"
  },
  "language_info": {
   "codemirror_mode": {
    "name": "ipython",
    "version": 3
   },
   "file_extension": ".py",
   "mimetype": "text/x-python",
   "name": "python",
   "nbconvert_exporter": "python",
   "pygments_lexer": "ipython3",
   "version": "3.8.8"
  }
 },
 "nbformat": 4,
 "nbformat_minor": 5
}
